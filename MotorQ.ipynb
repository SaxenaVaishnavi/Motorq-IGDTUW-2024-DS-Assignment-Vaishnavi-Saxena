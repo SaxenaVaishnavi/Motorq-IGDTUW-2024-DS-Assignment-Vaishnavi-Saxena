{
  "nbformat": 4,
  "nbformat_minor": 0,
  "metadata": {
    "colab": {
      "provenance": []
    },
    "kernelspec": {
      "name": "python3",
      "display_name": "Python 3"
    },
    "language_info": {
      "name": "python"
    }
  },
  "cells": [
    {
      "cell_type": "markdown",
      "source": [
        "##Uploading and formatting"
      ],
      "metadata": {
        "id": "y3xH8wOfSkQH"
      }
    },
    {
      "cell_type": "markdown",
      "source": [
        "Uploading the datasets"
      ],
      "metadata": {
        "id": "3HGKNue-PuAB"
      }
    },
    {
      "cell_type": "code",
      "execution_count": 1,
      "metadata": {
        "colab": {
          "base_uri": "https://localhost:8080/",
          "height": 144
        },
        "id": "5PEN_Hv_PrHh",
        "outputId": "a418eb6d-c55d-4c3a-b698-07346f914d8b"
      },
      "outputs": [
        {
          "output_type": "display_data",
          "data": {
            "text/plain": [
              "<IPython.core.display.HTML object>"
            ],
            "text/html": [
              "\n",
              "     <input type=\"file\" id=\"files-f4f54023-78c8-4ebd-abdb-2cd050ebb026\" name=\"files[]\" multiple disabled\n",
              "        style=\"border:none\" />\n",
              "     <output id=\"result-f4f54023-78c8-4ebd-abdb-2cd050ebb026\">\n",
              "      Upload widget is only available when the cell has been executed in the\n",
              "      current browser session. Please rerun this cell to enable.\n",
              "      </output>\n",
              "      <script>// Copyright 2017 Google LLC\n",
              "//\n",
              "// Licensed under the Apache License, Version 2.0 (the \"License\");\n",
              "// you may not use this file except in compliance with the License.\n",
              "// You may obtain a copy of the License at\n",
              "//\n",
              "//      http://www.apache.org/licenses/LICENSE-2.0\n",
              "//\n",
              "// Unless required by applicable law or agreed to in writing, software\n",
              "// distributed under the License is distributed on an \"AS IS\" BASIS,\n",
              "// WITHOUT WARRANTIES OR CONDITIONS OF ANY KIND, either express or implied.\n",
              "// See the License for the specific language governing permissions and\n",
              "// limitations under the License.\n",
              "\n",
              "/**\n",
              " * @fileoverview Helpers for google.colab Python module.\n",
              " */\n",
              "(function(scope) {\n",
              "function span(text, styleAttributes = {}) {\n",
              "  const element = document.createElement('span');\n",
              "  element.textContent = text;\n",
              "  for (const key of Object.keys(styleAttributes)) {\n",
              "    element.style[key] = styleAttributes[key];\n",
              "  }\n",
              "  return element;\n",
              "}\n",
              "\n",
              "// Max number of bytes which will be uploaded at a time.\n",
              "const MAX_PAYLOAD_SIZE = 100 * 1024;\n",
              "\n",
              "function _uploadFiles(inputId, outputId) {\n",
              "  const steps = uploadFilesStep(inputId, outputId);\n",
              "  const outputElement = document.getElementById(outputId);\n",
              "  // Cache steps on the outputElement to make it available for the next call\n",
              "  // to uploadFilesContinue from Python.\n",
              "  outputElement.steps = steps;\n",
              "\n",
              "  return _uploadFilesContinue(outputId);\n",
              "}\n",
              "\n",
              "// This is roughly an async generator (not supported in the browser yet),\n",
              "// where there are multiple asynchronous steps and the Python side is going\n",
              "// to poll for completion of each step.\n",
              "// This uses a Promise to block the python side on completion of each step,\n",
              "// then passes the result of the previous step as the input to the next step.\n",
              "function _uploadFilesContinue(outputId) {\n",
              "  const outputElement = document.getElementById(outputId);\n",
              "  const steps = outputElement.steps;\n",
              "\n",
              "  const next = steps.next(outputElement.lastPromiseValue);\n",
              "  return Promise.resolve(next.value.promise).then((value) => {\n",
              "    // Cache the last promise value to make it available to the next\n",
              "    // step of the generator.\n",
              "    outputElement.lastPromiseValue = value;\n",
              "    return next.value.response;\n",
              "  });\n",
              "}\n",
              "\n",
              "/**\n",
              " * Generator function which is called between each async step of the upload\n",
              " * process.\n",
              " * @param {string} inputId Element ID of the input file picker element.\n",
              " * @param {string} outputId Element ID of the output display.\n",
              " * @return {!Iterable<!Object>} Iterable of next steps.\n",
              " */\n",
              "function* uploadFilesStep(inputId, outputId) {\n",
              "  const inputElement = document.getElementById(inputId);\n",
              "  inputElement.disabled = false;\n",
              "\n",
              "  const outputElement = document.getElementById(outputId);\n",
              "  outputElement.innerHTML = '';\n",
              "\n",
              "  const pickedPromise = new Promise((resolve) => {\n",
              "    inputElement.addEventListener('change', (e) => {\n",
              "      resolve(e.target.files);\n",
              "    });\n",
              "  });\n",
              "\n",
              "  const cancel = document.createElement('button');\n",
              "  inputElement.parentElement.appendChild(cancel);\n",
              "  cancel.textContent = 'Cancel upload';\n",
              "  const cancelPromise = new Promise((resolve) => {\n",
              "    cancel.onclick = () => {\n",
              "      resolve(null);\n",
              "    };\n",
              "  });\n",
              "\n",
              "  // Wait for the user to pick the files.\n",
              "  const files = yield {\n",
              "    promise: Promise.race([pickedPromise, cancelPromise]),\n",
              "    response: {\n",
              "      action: 'starting',\n",
              "    }\n",
              "  };\n",
              "\n",
              "  cancel.remove();\n",
              "\n",
              "  // Disable the input element since further picks are not allowed.\n",
              "  inputElement.disabled = true;\n",
              "\n",
              "  if (!files) {\n",
              "    return {\n",
              "      response: {\n",
              "        action: 'complete',\n",
              "      }\n",
              "    };\n",
              "  }\n",
              "\n",
              "  for (const file of files) {\n",
              "    const li = document.createElement('li');\n",
              "    li.append(span(file.name, {fontWeight: 'bold'}));\n",
              "    li.append(span(\n",
              "        `(${file.type || 'n/a'}) - ${file.size} bytes, ` +\n",
              "        `last modified: ${\n",
              "            file.lastModifiedDate ? file.lastModifiedDate.toLocaleDateString() :\n",
              "                                    'n/a'} - `));\n",
              "    const percent = span('0% done');\n",
              "    li.appendChild(percent);\n",
              "\n",
              "    outputElement.appendChild(li);\n",
              "\n",
              "    const fileDataPromise = new Promise((resolve) => {\n",
              "      const reader = new FileReader();\n",
              "      reader.onload = (e) => {\n",
              "        resolve(e.target.result);\n",
              "      };\n",
              "      reader.readAsArrayBuffer(file);\n",
              "    });\n",
              "    // Wait for the data to be ready.\n",
              "    let fileData = yield {\n",
              "      promise: fileDataPromise,\n",
              "      response: {\n",
              "        action: 'continue',\n",
              "      }\n",
              "    };\n",
              "\n",
              "    // Use a chunked sending to avoid message size limits. See b/62115660.\n",
              "    let position = 0;\n",
              "    do {\n",
              "      const length = Math.min(fileData.byteLength - position, MAX_PAYLOAD_SIZE);\n",
              "      const chunk = new Uint8Array(fileData, position, length);\n",
              "      position += length;\n",
              "\n",
              "      const base64 = btoa(String.fromCharCode.apply(null, chunk));\n",
              "      yield {\n",
              "        response: {\n",
              "          action: 'append',\n",
              "          file: file.name,\n",
              "          data: base64,\n",
              "        },\n",
              "      };\n",
              "\n",
              "      let percentDone = fileData.byteLength === 0 ?\n",
              "          100 :\n",
              "          Math.round((position / fileData.byteLength) * 100);\n",
              "      percent.textContent = `${percentDone}% done`;\n",
              "\n",
              "    } while (position < fileData.byteLength);\n",
              "  }\n",
              "\n",
              "  // All done.\n",
              "  yield {\n",
              "    response: {\n",
              "      action: 'complete',\n",
              "    }\n",
              "  };\n",
              "}\n",
              "\n",
              "scope.google = scope.google || {};\n",
              "scope.google.colab = scope.google.colab || {};\n",
              "scope.google.colab._files = {\n",
              "  _uploadFiles,\n",
              "  _uploadFilesContinue,\n",
              "};\n",
              "})(self);\n",
              "</script> "
            ]
          },
          "metadata": {}
        },
        {
          "output_type": "stream",
          "name": "stdout",
          "text": [
            "Saving telemetry_1.csv to telemetry_1.csv\n",
            "Saving telemetry_2.csv to telemetry_2.csv\n",
            "Saving vehicle_data.csv to vehicle_data.csv\n"
          ]
        }
      ],
      "source": [
        "from google.colab import files\n",
        "uploaded = files.upload()"
      ]
    },
    {
      "cell_type": "markdown",
      "source": [
        "Making the excel sheets to dataframes"
      ],
      "metadata": {
        "id": "7ITa9_sRSDV7"
      }
    },
    {
      "cell_type": "code",
      "source": [
        "import pandas as pd\n",
        "\n",
        "telemetry1 = pd.read_csv('telemetry_1.csv')\n",
        "telemetry2 = pd.read_csv('telemetry_2.csv')\n",
        "vehicle_data = pd.read_csv('vehicle_data.csv')"
      ],
      "metadata": {
        "id": "DTPazYdbP5HD"
      },
      "execution_count": 5,
      "outputs": []
    },
    {
      "cell_type": "markdown",
      "source": [
        "##Data Pre-processing"
      ],
      "metadata": {
        "id": "iXJS7z7ISZ1r"
      }
    },
    {
      "cell_type": "markdown",
      "source": [
        "Data Inspection"
      ],
      "metadata": {
        "id": "F4Jnig80Uwzp"
      }
    },
    {
      "cell_type": "code",
      "source": [
        "print('TELEMETRY 1')\n",
        "print(telemetry1.head())\n",
        "print()\n",
        "\n",
        "print('TELEMETRY 2')\n",
        "print(telemetry2.head())\n",
        "print()\n",
        "\n",
        "print('VEHICLE DATA')\n",
        "print(vehicle_data.head(20))"
      ],
      "metadata": {
        "colab": {
          "base_uri": "https://localhost:8080/"
        },
        "id": "kpOoRmp-SHvq",
        "outputId": "b33ec3b3-42c6-40b9-c6bb-d00e47116e22"
      },
      "execution_count": 74,
      "outputs": [
        {
          "output_type": "stream",
          "name": "stdout",
          "text": [
            "TELEMETRY 1\n",
            "   vehicle_id                 timestamp  speed  odometer  fuel_level\n",
            "0   vehicle_4 2024-06-06 14:26:23-07:00   64.2       NaN         NaN\n",
            "1   vehicle_8                       NaT    1.6   12048.0         NaN\n",
            "2   vehicle_3                       NaT    NaN       NaN        45.0\n",
            "3  vehicle_10                       NaT   36.2    1434.7         NaN\n",
            "4  vehicle_11 2024-07-06 11:08:03-07:00   29.5       NaN         NaN\n",
            "\n",
            "TELEMETRY 2\n",
            "   vehicle_id                 timestamp   val   name\n",
            "0   vehicle_4 2024-07-23 19:56:44+05:30   0.0  speed\n",
            "1  vehicle_11 2024-04-04 22:33:56+05:30  52.7  speed\n",
            "2   vehicle_3                       NaT   5.8  speed\n",
            "3   vehicle_3                       NaT  34.4  speed\n",
            "4  vehicle_10                       NaT  42.8  speed\n",
            "\n",
            "VEHICLE DATA\n",
            "            id datasource  tank_capacity  rated_mpg\n",
            "0    vehicle_1   source_1           18.0         35\n",
            "1    vehicle_2   source_1           15.8         32\n",
            "2    vehicle_3   source_2           15.8         24\n",
            "3    vehicle_4   source_1           13.0         32\n",
            "4    vehicle_5   source_2           23.0         22\n",
            "5    vehicle_6   source_2           19.0         56\n",
            "6    vehicle_7   source_2           23.0         21\n",
            "7    vehicle_8   source_2           18.5         21\n",
            "8    vehicle_9   source_1           17.9         24\n",
            "9   vehicle_10   source_2           26.0         21\n",
            "10  vehicle_11   source_1           18.0         35\n"
          ]
        }
      ]
    },
    {
      "cell_type": "markdown",
      "source": [
        "Getting the timestamps in the same format in both the telemetry tables"
      ],
      "metadata": {
        "id": "nJBY6pqruT_Z"
      }
    },
    {
      "cell_type": "code",
      "source": [
        "telemetry1['timestamp'] = pd.to_datetime(telemetry1['timestamp'], errors='coerce')\n",
        "telemetry2['timestamp'] = pd.to_datetime(telemetry2['timestamp'], errors='coerce')"
      ],
      "metadata": {
        "id": "hg3qg2xGuiL1"
      },
      "execution_count": 67,
      "outputs": []
    },
    {
      "cell_type": "code",
      "source": [
        "print('Dataframe Shape')\n",
        "print('Telemetry 1 shape: ', telemetry1.shape)\n",
        "print('Telemetry 2 shape: ', telemetry2.shape)\n",
        "print('Vehicle Data shape: ', vehicle_data.shape)\n",
        "print()\n",
        "\n",
        "print('Summary Statistics')\n",
        "print(telemetry1.describe())\n",
        "print()\n",
        "print(telemetry2.describe())\n",
        "print()\n",
        "print(vehicle_data.describe())\n",
        "print()\n",
        "\n",
        "\n",
        "print('Missing Values')\n",
        "print(telemetry1.isnull().sum())\n",
        "print()\n",
        "print(telemetry2.isnull().sum())\n",
        "print()\n",
        "print(vehicle_data.isnull().sum())"
      ],
      "metadata": {
        "colab": {
          "base_uri": "https://localhost:8080/"
        },
        "id": "MsYXm9RLUBhc",
        "outputId": "624a8f70-5b01-4c85-9d42-502b0726ac0f"
      },
      "execution_count": 68,
      "outputs": [
        {
          "output_type": "stream",
          "name": "stdout",
          "text": [
            "Dataframe Shape\n",
            "Telemetry 1 shape:  (408670, 5)\n",
            "Telemetry 2 shape:  (425893, 4)\n",
            "Vehicle Data shape:  (11, 4)\n",
            "\n",
            "Summary Statistics\n",
            "               speed       odometer    fuel_level\n",
            "count  271080.000000  272566.000000  96559.000000\n",
            "mean       31.655172    7354.928006     69.169699\n",
            "std        30.639936    7759.389663     26.552232\n",
            "min         0.000000       0.000000      1.000000\n",
            "25%         0.000000    1988.400000     48.000000\n",
            "50%        24.900000    4582.000000     73.000000\n",
            "75%        62.800000    9818.150000     96.000000\n",
            "max       116.100000   39059.000000    110.000000\n",
            "\n",
            "                 val\n",
            "count  425893.000000\n",
            "mean     3168.455671\n",
            "std      6239.633323\n",
            "min         0.000000\n",
            "25%        33.100000\n",
            "50%        82.000000\n",
            "75%      3793.500000\n",
            "max     39061.000000\n",
            "\n",
            "       tank_capacity  rated_mpg\n",
            "count      11.000000  11.000000\n",
            "mean       18.909091  29.363636\n",
            "std         3.752987  10.528749\n",
            "min        13.000000  21.000000\n",
            "25%        16.850000  21.500000\n",
            "50%        18.000000  24.000000\n",
            "75%        21.000000  33.500000\n",
            "max        26.000000  56.000000\n",
            "\n",
            "Missing Values\n",
            "vehicle_id         0\n",
            "timestamp     273245\n",
            "speed         137590\n",
            "odometer      136104\n",
            "fuel_level    312111\n",
            "dtype: int64\n",
            "\n",
            "vehicle_id         0\n",
            "timestamp     305885\n",
            "val                0\n",
            "name               0\n",
            "dtype: int64\n",
            "\n",
            "id               0\n",
            "datasource       0\n",
            "tank_capacity    0\n",
            "rated_mpg        0\n",
            "dtype: int64\n"
          ]
        }
      ]
    },
    {
      "cell_type": "markdown",
      "source": [
        "Visualizing the summary/missing values"
      ],
      "metadata": {
        "id": "5_YDQ5z2YaSu"
      }
    },
    {
      "cell_type": "code",
      "source": [
        "import matplotlib.pyplot as plt\n",
        "import seaborn as sns\n",
        "\n",
        "# 1. Bar Chart for Missing Values in Telemetry 1\n",
        "missing_values = telemetry1.isnull().sum()\n",
        "plt.figure(figsize=(5, 5))\n",
        "sns.barplot(x=missing_values.index, y=missing_values.values)\n",
        "plt.title('Missing Values in Telemetry 1')\n",
        "plt.ylabel('Number of Missing Values')\n",
        "plt.xlabel('Columns')\n",
        "plt.show()\n",
        "\n",
        "# 2. Pie Chart for Tank Capacity in Vehicle Data\n",
        "plt.figure(figsize=(6, 6))\n",
        "plt.pie(vehicle_data['tank_capacity'], labels=vehicle_data['id'], autopct='%1.1f%%')\n",
        "plt.title('Distribution of Tank Capacity Across Vehicles')\n",
        "plt.show()"
      ],
      "metadata": {
        "colab": {
          "base_uri": "https://localhost:8080/",
          "height": 991
        },
        "id": "QFI3TCm9YZVj",
        "outputId": "8a992da1-deac-4dac-a39a-56152a94f07b"
      },
      "execution_count": 69,
      "outputs": [
        {
          "output_type": "display_data",
          "data": {
            "text/plain": [
              "<Figure size 500x500 with 1 Axes>"
            ],
            "image/png": "[encoded data removed]"
          },
          "metadata": {}
        },
        {
          "output_type": "display_data",
          "data": {
            "text/plain": [
              "<Figure size 600x600 with 1 Axes>"
            ],
            "image/png": "[encoded data removed]"
          },
          "metadata": {}
        }
      ]
    },
    {
      "cell_type": "markdown",
      "source": [
        "From the above charts we can infer the following data:\n",
        "\n",
        "1. There are 11 distinct vehicle IDs so we can infer that there are a total of 11 vehicles that we have the data for.\n",
        "2.   About missing data\n",
        "\n",
        "*   In the table 'Telemetry 1', missing values are present in the columns for 'speed', 'odometer', 'fuel-levels' and 'timestamps'\n",
        "*   The dataframe 'vehicle_data' has no missing values.\n",
        "\n",
        "\n",
        "\n"
      ],
      "metadata": {
        "id": "_ROpyCTKbeVG"
      }
    },
    {
      "cell_type": "markdown",
      "source": [
        "Since there are multiple speed readings for each vehicle at different timestamps, I am aggregating the data to get a meaningful representation\n",
        "\n",
        "Steps:\n",
        "1. Groupping by Vehicle ID: aggregating the speed data and fuel tank levels for each vehicle.\n",
        "2. Calculating Averages for every vehicle.\n",
        "3. Plotting the Averages (histogram)"
      ],
      "metadata": {
        "id": "y0zyYB9xeW1Y"
      }
    },
    {
      "cell_type": "code",
      "source": [
        "import pandas as pd\n",
        "import matplotlib.pyplot as plt\n",
        "\n",
        "avg_speeds = telemetry1.groupby('vehicle_id')['speed'].mean()\n",
        "avg_fuel_levels = telemetry1.groupby('vehicle_id')['fuel_level'].mean()\n",
        "\n",
        "# Plot the average speeds\n",
        "plt.figure(figsize=(12, 6))\n",
        "plt.hist(avg_speeds.dropna(), bins=30, edgecolor='black', color='pink')\n",
        "plt.title('Distribution of Average Speeds Across Vehicles')\n",
        "plt.xlabel('Average Speed (mph)')\n",
        "plt.ylabel('Number of Vehicles')\n",
        "plt.show()\n",
        "\n",
        "# Plot the average fuel levels\n",
        "plt.figure(figsize=(12, 6))\n",
        "plt.hist(avg_fuel_levels.dropna(), bins=30, edgecolor='black', color='palevioletred')\n",
        "plt.title('Distribution of Average Fuel Levels Across Vehicles')\n",
        "plt.xlabel('Average Fuel Level (%)')\n",
        "plt.ylabel('Number of Vehicles')\n",
        "plt.show()"
      ],
      "metadata": {
        "colab": {
          "base_uri": "https://localhost:8080/",
          "height": 1000
        },
        "id": "WFebWCHTe4ps",
        "outputId": "ff046d6d-00b6-4e2b-8682-a95e22cd5f71"
      },
      "execution_count": 70,
      "outputs": [
        {
          "output_type": "display_data",
          "data": {
            "text/plain": [
              "<Figure size 1200x600 with 1 Axes>"
            ],
            "image/png": "[encoded data removed]"
          },
          "metadata": {}
        },
        {
          "output_type": "display_data",
          "data": {
            "text/plain": [
              "<Figure size 1200x600 with 1 Axes>"
            ],
            "image/png": "[encoded data removed]"
          },
          "metadata": {}
        }
      ]
    },
    {
      "cell_type": "code",
      "source": [
        "# Group by vehicle_id and calculate the maximum odometer reading for each vehicle\n",
        "max_odometer_readings = telemetry1.groupby('vehicle_id')['odometer'].max()\n",
        "\n",
        "# Print or display the maximum odometer readings\n",
        "print(\"Maximum Odometer Readings for Each Vehicle:\")\n",
        "print(max_odometer_readings)"
      ],
      "metadata": {
        "colab": {
          "base_uri": "https://localhost:8080/"
        },
        "id": "vOZSMgyCi0xv",
        "outputId": "a0bff081-d416-4949-c43b-0009582fbf35"
      },
      "execution_count": 71,
      "outputs": [
        {
          "output_type": "stream",
          "name": "stdout",
          "text": [
            "Maximum Odometer Readings for Each Vehicle:\n",
            "vehicle_id\n",
            "vehicle_1     29959.0\n",
            "vehicle_10     1995.8\n",
            "vehicle_11    39059.0\n",
            "vehicle_2     22943.0\n",
            "vehicle_3      7360.8\n",
            "vehicle_4      8228.0\n",
            "vehicle_5      4388.7\n",
            "vehicle_6      5402.2\n",
            "vehicle_7      8012.0\n",
            "vehicle_8     13348.7\n",
            "vehicle_9      6282.0\n",
            "Name: odometer, dtype: float64\n"
          ]
        }
      ]
    },
    {
      "cell_type": "code",
      "source": [
        "# Group by vehicle_id and calculate the range of odometer readings (max - min) for each vehicle\n",
        "odometer_range = telemetry1.groupby('vehicle_id')['odometer'].agg(lambda x: x.max() - x.min())\n",
        "\n",
        "# Print or display the odometer range\n",
        "print(\"Range of Odometer Readings for Each Vehicle:\")\n",
        "print(odometer_range)"
      ],
      "metadata": {
        "colab": {
          "base_uri": "https://localhost:8080/"
        },
        "id": "8Cc1jtwLi333",
        "outputId": "5821c662-4ca9-4ce6-b6f4-a91b0de165b9"
      },
      "execution_count": 72,
      "outputs": [
        {
          "output_type": "stream",
          "name": "stdout",
          "text": [
            "Range of Odometer Readings for Each Vehicle:\n",
            "vehicle_id\n",
            "vehicle_1     29493.0\n",
            "vehicle_10     1706.9\n",
            "vehicle_11    24066.0\n",
            "vehicle_2     11811.0\n",
            "vehicle_3      7316.1\n",
            "vehicle_4      8225.0\n",
            "vehicle_5      4388.7\n",
            "vehicle_6      5402.2\n",
            "vehicle_7      4464.6\n",
            "vehicle_8     13348.7\n",
            "vehicle_9      6279.0\n",
            "Name: odometer, dtype: float64\n"
          ]
        }
      ]
    },
    {
      "cell_type": "code",
      "source": [
        "# Pivot Telemetry 2 data to match the structure of Telemetry 1\n",
        "telemetry2_pivoted = telemetry2.pivot_table(index=['vehicle_id', 'timestamp'], columns='name', values='val').reset_index()\n",
        "\n",
        "# Display the pivoted data to ensure correctness\n",
        "print(telemetry2_pivoted.head())"
      ],
      "metadata": {
        "colab": {
          "base_uri": "https://localhost:8080/"
        },
        "id": "xpJCRegPUz_V",
        "outputId": "be3662c5-decf-4603-a2e4-0ed37a2fa248"
      },
      "execution_count": 73,
      "outputs": [
        {
          "output_type": "stream",
          "name": "stdout",
          "text": [
            "name vehicle_id                 timestamp  fuel_level  odometer  speed\n",
            "0     vehicle_1 2024-01-02 20:50:03+05:30         NaN     466.0    NaN\n",
            "1     vehicle_1 2024-01-02 20:50:22+05:30         NaN       NaN    0.0\n",
            "2     vehicle_1 2024-01-02 20:51:22+05:30         NaN       NaN    0.0\n",
            "3     vehicle_1 2024-01-02 20:52:06+05:30       100.0     466.0    NaN\n",
            "4     vehicle_1 2024-01-02 20:54:09+05:30         NaN     466.0    NaN\n"
          ]
        }
      ]
    },
    {
      "cell_type": "markdown",
      "source": [
        "## Combining Dataset"
      ],
      "metadata": {
        "id": "sHOLYF6ukuWL"
      }
    },
    {
      "cell_type": "code",
      "source": [
        "# Merge Telemetry 1 and Telemetry 2 (pivoted)\n",
        "telemetry_combined = pd.merge(telemetry1, telemetry2_pivoted, on=['vehicle_id', 'timestamp'], how='outer')\n",
        "\n",
        "# Display the combined data to verify\n",
        "print(telemetry_combined.head())"
      ],
      "metadata": {
        "colab": {
          "base_uri": "https://localhost:8080/"
        },
        "id": "01umJvshkdfB",
        "outputId": "c7e891f1-9817-4983-f4c7-f4b01accf08c"
      },
      "execution_count": 50,
      "outputs": [
        {
          "output_type": "stream",
          "name": "stdout",
          "text": [
            "  vehicle_id                 timestamp  speed_x  odometer_x  fuel_level_x  \\\n",
            "0  vehicle_4 2024-06-06 14:26:23-07:00     64.2         NaN           NaN   \n",
            "1  vehicle_8                       NaT      1.6     12048.0           NaN   \n",
            "2  vehicle_8                       NaT     73.1     10167.3           NaN   \n",
            "3  vehicle_8                       NaT     76.9     10200.9           NaN   \n",
            "4  vehicle_8                       NaT     62.0     11154.9           NaN   \n",
            "\n",
            "   fuel_level_y  odometer_y  speed_y  \n",
            "0           NaN         NaN      NaN  \n",
            "1           NaN         NaN      NaN  \n",
            "2           NaN         NaN      NaN  \n",
            "3           NaN         NaN      NaN  \n",
            "4           NaN         NaN      NaN  \n"
          ]
        }
      ]
    },
    {
      "cell_type": "code",
      "source": [
        "# Combining conflicting columns\n",
        "telemetry_combined['speed'] = telemetry_combined['speed_x'].combine_first(telemetry_combined['speed_y'])\n",
        "telemetry_combined['odometer'] = telemetry_combined['odometer_x'].combine_first(telemetry_combined['odometer_y'])\n",
        "telemetry_combined['fuel_level'] = telemetry_combined['fuel_level_x'].combine_first(telemetry_combined['fuel_level_y'])\n",
        "\n",
        "# Drop the original columns with suffixes\n",
        "telemetry_combined = telemetry_combined.drop(columns=['speed_x', 'speed_y', 'odometer_x', 'odometer_y', 'fuel_level_x', 'fuel_level_y'])\n",
        "\n",
        "# Display the combined data to verify\n",
        "print(telemetry_combined.head())"
      ],
      "metadata": {
        "colab": {
          "base_uri": "https://localhost:8080/"
        },
        "id": "hUApzgbClzXV",
        "outputId": "79ac9eb0-6a45-494c-f980-5df1c95c69da"
      },
      "execution_count": 51,
      "outputs": [
        {
          "output_type": "stream",
          "name": "stdout",
          "text": [
            "  vehicle_id                 timestamp  speed  odometer  fuel_level\n",
            "0  vehicle_4 2024-06-06 14:26:23-07:00   64.2       NaN         NaN\n",
            "1  vehicle_8                       NaT    1.6   12048.0         NaN\n",
            "2  vehicle_8                       NaT   73.1   10167.3         NaN\n",
            "3  vehicle_8                       NaT   76.9   10200.9         NaN\n",
            "4  vehicle_8                       NaT   62.0   11154.9         NaN\n"
          ]
        }
      ]
    },
    {
      "cell_type": "markdown",
      "source": [
        "## Understanding missing values"
      ],
      "metadata": {
        "id": "DCMTxiCQ198t"
      }
    },
    {
      "cell_type": "code",
      "source": [
        "# missing values in the combined table\n",
        "missing_values = telemetry_combined.isnull().sum()\n",
        "print(\"Missing Values in Combined Telemetry Table:\")\n",
        "print(missing_values)\n",
        "print()\n",
        "\n",
        "# summary statistics for combined table\n",
        "summary_statistics = telemetry_combined.describe()\n",
        "print(\"Summary Statistics of Combined Telemetry Table:\")\n",
        "print(summary_statistics)\n"
      ],
      "metadata": {
        "colab": {
          "base_uri": "https://localhost:8080/"
        },
        "id": "Rf979fS5nG7M",
        "outputId": "2e229adf-3cbd-4bb9-f94c-803daa12ce0a"
      },
      "execution_count": 52,
      "outputs": [
        {
          "output_type": "stream",
          "name": "stdout",
          "text": [
            "Missing Values in Combined Telemetry Table:\n",
            "vehicle_id         0\n",
            "timestamp     273245\n",
            "speed         205455\n",
            "odometer      203043\n",
            "fuel_level    379129\n",
            "dtype: int64\n",
            "\n",
            "Summary Statistics of Combined Telemetry Table:\n",
            "               speed       odometer     fuel_level\n",
            "count  310485.000000  312897.000000  136811.000000\n",
            "mean       33.794361    8564.083997      70.001433\n",
            "std        31.140771    8774.733658      26.407193\n",
            "min         0.000000       0.000000       1.000000\n",
            "25%         0.000000    2197.200000      49.000000\n",
            "50%        29.800000    5159.900000      74.000000\n",
            "75%        65.800000   12029.500000      97.000000\n",
            "max       116.100000   39061.000000     110.000000\n"
          ]
        }
      ]
    },
    {
      "cell_type": "markdown",
      "source": [
        "The fuel level column has significant missing values, this can cause a drop in the accuracy of results concerning fuel economy"
      ],
      "metadata": {
        "id": "9zJ2-fSjn86D"
      }
    },
    {
      "cell_type": "markdown",
      "source": [
        "Understanding missing values by vehicle ID"
      ],
      "metadata": {
        "id": "WKDROiFEpoAK"
      }
    },
    {
      "cell_type": "code",
      "source": [
        "missing_values_by_vehicle = telemetry_combined.groupby('vehicle_id').apply(lambda x: x.isnull().sum())\n",
        "\n",
        "print(\"Missing Values by Vehicle ID:\")\n",
        "print(missing_values_by_vehicle)"
      ],
      "metadata": {
        "colab": {
          "base_uri": "https://localhost:8080/"
        },
        "id": "q4vOtoSfkwdd",
        "outputId": "4e1322bd-5943-45dc-c2d9-cd2ea78eb450"
      },
      "execution_count": 53,
      "outputs": [
        {
          "output_type": "stream",
          "name": "stdout",
          "text": [
            "Missing Values by Vehicle ID:\n",
            "            vehicle_id  timestamp  speed  odometer  fuel_level\n",
            "vehicle_id                                                    \n",
            "vehicle_1            0      12340  62801     62184       62218\n",
            "vehicle_10           0      22204   4121      4496       18116\n",
            "vehicle_11           0      12011  54107     53542       53617\n",
            "vehicle_2            0          0  26435     26069       26085\n",
            "vehicle_3            0      73932  10592     10592       63396\n",
            "vehicle_4            0          0  16418     15446       15656\n",
            "vehicle_5            0      36462   5225      5202       31303\n",
            "vehicle_6            0      34839   4854      4828       30022\n",
            "vehicle_7            0      38474   5532      5532       32993\n",
            "vehicle_8            0      42983   6251      6216       36784\n",
            "vehicle_9            0          0   9119      8936        8939\n"
          ]
        }
      ]
    },
    {
      "cell_type": "markdown",
      "source": [
        "## Handling missing values"
      ],
      "metadata": {
        "id": "jFqttQEX2Q7W"
      }
    },
    {
      "cell_type": "markdown",
      "source": [
        "For handling missing values in the fuel level column, I am using forward fill method"
      ],
      "metadata": {
        "id": "yF6RUCaO4kPu"
      }
    },
    {
      "cell_type": "code",
      "source": [
        "# Sorting data by vehicle_id and timestamp\n",
        "telemetry_combined = telemetry_combined.sort_values(by=['vehicle_id', 'timestamp'])\n",
        "\n",
        "# Forward filling missing values in the 'fuel_level' column\n",
        "telemetry_combined['fuel_level'] = telemetry_combined.groupby('vehicle_id')['fuel_level'].ffill()\n",
        "\n",
        "print(telemetry_combined['fuel_level'].isnull().sum())     # checking for remaining missing values\n",
        "\n",
        "print(telemetry_combined.head(150))\n",
        "print()\n",
        "print(telemetry_combined.tail(150))"
      ],
      "metadata": {
        "colab": {
          "base_uri": "https://localhost:8080/"
        },
        "id": "g1Ivj6d_qSQ8",
        "outputId": "805a5a84-b65e-44ad-8728-4b8375a73dab"
      },
      "execution_count": 63,
      "outputs": [
        {
          "output_type": "stream",
          "name": "stdout",
          "text": [
            "90\n",
            "       vehicle_id                 timestamp  speed  odometer  fuel_level\n",
            "408670  vehicle_1 2024-01-02 08:20:03-07:00    NaN     466.0         NaN\n",
            "408671  vehicle_1 2024-01-02 08:20:22-07:00    0.0       NaN         NaN\n",
            "408672  vehicle_1 2024-01-02 08:21:22-07:00    0.0       NaN         NaN\n",
            "408673  vehicle_1 2024-01-02 08:22:06-07:00    NaN     466.0       100.0\n",
            "408674  vehicle_1 2024-01-02 08:24:09-07:00    NaN     466.0       100.0\n",
            "...           ...                       ...    ...       ...         ...\n",
            "408815  vehicle_1 2024-01-20 08:12:30-07:00    NaN     569.0        77.0\n",
            "408816  vehicle_1 2024-01-20 08:13:30-07:00    NaN     570.0        77.0\n",
            "408817  vehicle_1 2024-01-20 08:13:36-07:00    NaN       NaN        76.0\n",
            "408818  vehicle_1 2024-01-20 08:13:38-07:00   75.6       NaN        76.0\n",
            "408819  vehicle_1 2024-01-20 08:15:34-07:00    NaN     573.0        76.0\n",
            "\n",
            "[150 rows x 5 columns]\n",
            "\n",
            "       vehicle_id                 timestamp  speed  odometer  fuel_level\n",
            "352008  vehicle_9 2024-07-31 09:43:44-07:00    NaN    6276.0        62.0\n",
            "365419  vehicle_9 2024-07-31 09:44:01-07:00    0.0       NaN        62.0\n",
            "352996  vehicle_9 2024-07-31 09:44:44-07:00    NaN    6276.0        62.0\n",
            "352479  vehicle_9 2024-07-31 09:45:01-07:00    0.0       NaN        62.0\n",
            "349630  vehicle_9 2024-07-31 09:45:44-07:00    NaN    6276.0        62.0\n",
            "...           ...                       ...    ...       ...         ...\n",
            "325222  vehicle_9 2024-07-31 16:57:26-07:00    0.0       NaN        56.0\n",
            "355201  vehicle_9 2024-07-31 16:58:10-07:00    NaN    6282.0        55.0\n",
            "515939  vehicle_9 2024-07-31 16:58:26-07:00    0.0       NaN        55.0\n",
            "358051  vehicle_9 2024-07-31 16:59:10-07:00    NaN    6282.0        55.0\n",
            "293108  vehicle_9 2024-07-31 16:59:26-07:00   19.7       NaN        55.0\n",
            "\n",
            "[150 rows x 5 columns]\n"
          ]
        }
      ]
    },
    {
      "cell_type": "markdown",
      "source": [
        "For handling missing values in speed and odometer columns, I am using interpolation as that would give a smooth transitioning"
      ],
      "metadata": {
        "id": "6VC_BWec4s4i"
      }
    },
    {
      "cell_type": "code",
      "source": [
        "telemetry_combined['speed'].interpolate(method='linear', inplace=True)\n",
        "telemetry_combined['odometer'].interpolate(method='linear', inplace=True)\n",
        "\n",
        "print(telemetry_combined.head(150))\n",
        "print()\n",
        "print(telemetry_combined.tail(150))"
      ],
      "metadata": {
        "colab": {
          "base_uri": "https://localhost:8080/"
        },
        "id": "eW3wY3dNt5pU",
        "outputId": "1e693180-a0cd-4199-8af3-12057342daee"
      },
      "execution_count": 65,
      "outputs": [
        {
          "output_type": "stream",
          "name": "stdout",
          "text": [
            "       vehicle_id                 timestamp      speed  odometer  fuel_level\n",
            "408670  vehicle_1 2024-01-02 08:20:03-07:00        NaN     466.0         NaN\n",
            "408671  vehicle_1 2024-01-02 08:20:22-07:00   0.000000     466.0         NaN\n",
            "408672  vehicle_1 2024-01-02 08:21:22-07:00   0.000000     466.0         NaN\n",
            "408673  vehicle_1 2024-01-02 08:22:06-07:00   0.000000     466.0       100.0\n",
            "408674  vehicle_1 2024-01-02 08:24:09-07:00   0.000000     466.0       100.0\n",
            "...           ...                       ...        ...       ...         ...\n",
            "408815  vehicle_1 2024-01-20 08:12:30-07:00  75.500000     569.0        77.0\n",
            "408816  vehicle_1 2024-01-20 08:13:30-07:00  75.533333     570.0        77.0\n",
            "408817  vehicle_1 2024-01-20 08:13:36-07:00  75.566667     571.0        76.0\n",
            "408818  vehicle_1 2024-01-20 08:13:38-07:00  75.600000     572.0        76.0\n",
            "408819  vehicle_1 2024-01-20 08:15:34-07:00  75.450000     573.0        76.0\n",
            "\n",
            "[150 rows x 5 columns]\n",
            "\n",
            "       vehicle_id                 timestamp  speed  odometer  fuel_level\n",
            "352008  vehicle_9 2024-07-31 09:43:44-07:00   0.00    6276.0        62.0\n",
            "365419  vehicle_9 2024-07-31 09:44:01-07:00   0.00    6276.0        62.0\n",
            "352996  vehicle_9 2024-07-31 09:44:44-07:00   0.00    6276.0        62.0\n",
            "352479  vehicle_9 2024-07-31 09:45:01-07:00   0.00    6276.0        62.0\n",
            "349630  vehicle_9 2024-07-31 09:45:44-07:00   0.00    6276.0        62.0\n",
            "...           ...                       ...    ...       ...         ...\n",
            "325222  vehicle_9 2024-07-31 16:57:26-07:00   0.00    6282.0        56.0\n",
            "355201  vehicle_9 2024-07-31 16:58:10-07:00   0.00    6282.0        55.0\n",
            "515939  vehicle_9 2024-07-31 16:58:26-07:00   0.00    6282.0        55.0\n",
            "358051  vehicle_9 2024-07-31 16:59:10-07:00   9.85    6282.0        55.0\n",
            "293108  vehicle_9 2024-07-31 16:59:26-07:00  19.70    6282.0        55.0\n",
            "\n",
            "[150 rows x 5 columns]\n"
          ]
        }
      ]
    },
    {
      "cell_type": "markdown",
      "source": [
        "## Calculating fuel economy"
      ],
      "metadata": {
        "id": "ETZSGBXA47d9"
      }
    },
    {
      "cell_type": "markdown",
      "source": [
        "Distance traveled (in miles) for each vehicle."
      ],
      "metadata": {
        "id": "RhHq3Tsd6ypa"
      }
    },
    {
      "cell_type": "code",
      "source": [
        "telemetry_combined['distance_traveled'] = telemetry_combined.groupby('vehicle_id')['odometer'].diff().ffill()"
      ],
      "metadata": {
        "id": "yO-LZTwp4WP0"
      },
      "execution_count": 79,
      "outputs": []
    },
    {
      "cell_type": "code",
      "source": [
        "print(telemetry_combined.head(200))"
      ],
      "metadata": {
        "colab": {
          "base_uri": "https://localhost:8080/"
        },
        "id": "YXJs9uVE69Q0",
        "outputId": "9f9151d7-faf6-440b-f010-d27f33c05d4e"
      },
      "execution_count": 80,
      "outputs": [
        {
          "output_type": "stream",
          "name": "stdout",
          "text": [
            "       vehicle_id                 timestamp      speed    odometer  \\\n",
            "408670  vehicle_1 2024-01-02 08:20:03-07:00        NaN  466.000000   \n",
            "408671  vehicle_1 2024-01-02 08:20:22-07:00   0.000000  466.000000   \n",
            "408672  vehicle_1 2024-01-02 08:21:22-07:00   0.000000  466.000000   \n",
            "408673  vehicle_1 2024-01-02 08:22:06-07:00   0.000000  466.000000   \n",
            "408674  vehicle_1 2024-01-02 08:24:09-07:00   0.000000  466.000000   \n",
            "...           ...                       ...        ...         ...   \n",
            "408865  vehicle_1 2024-01-20 09:00:22-07:00  71.666667  627.000000   \n",
            "408866  vehicle_1 2024-01-20 09:01:23-07:00  72.050000  628.000000   \n",
            "408867  vehicle_1 2024-01-20 09:01:27-07:00  72.433333  629.000000   \n",
            "408868  vehicle_1 2024-01-20 09:02:19-07:00  72.816667  630.000000   \n",
            "408869  vehicle_1 2024-01-20 09:02:38-07:00  73.200000  631.666667   \n",
            "\n",
            "        fuel_level  distance_traveled  \n",
            "408670         NaN                NaN  \n",
            "408671         NaN           0.000000  \n",
            "408672         NaN           0.000000  \n",
            "408673       100.0           0.000000  \n",
            "408674       100.0           0.000000  \n",
            "...            ...                ...  \n",
            "408865        57.0           1.000000  \n",
            "408866        57.0           1.000000  \n",
            "408867        57.0           1.000000  \n",
            "408868        57.0           1.000000  \n",
            "408869        57.0           1.666667  \n",
            "\n",
            "[200 rows x 6 columns]\n"
          ]
        }
      ]
    },
    {
      "cell_type": "code",
      "source": [
        "# Drop duplicate columns and simplify the DataFrame\n",
        "if 'vehicle_id_x' in telemetry_combined.columns and 'vehicle_id_y' in telemetry_combined.columns:\n",
        "    telemetry_combined = telemetry_combined.drop(columns=['vehicle_id_y'])\n",
        "\n",
        "# Set 'vehicle_id' as the index\n",
        "telemetry_combined.set_index('vehicle_id', inplace=True)\n",
        "\n",
        "# Function to calculate fuel economy\n",
        "def calculate_fuel_economy(df):\n",
        "    results = []\n",
        "\n",
        "    # Iterate through each vehicle\n",
        "    for vehicle_id, group in df.groupby(level=0):\n",
        "        # Sort by timestamp\n",
        "        group = group.sort_index(level=1)\n",
        "\n",
        "        # Initialize previous values\n",
        "        prev_odometer = prev_fuel_level = None\n",
        "\n",
        "        for index, row in group.iterrows():\n",
        "            # Only consider rows where odometer and fuel_level are available\n",
        "            if pd.notnull(row['odometer']) and pd.notnull(row['fuel_level']):\n",
        "                if prev_odometer is not None and prev_fuel_level is not None:\n",
        "                    # Calculate distance and fuel used\n",
        "                    distance = row['odometer'] - prev_odometer\n",
        "                    fuel_used = prev_fuel_level - row['fuel_level']\n",
        "                    if fuel_used > 0:\n",
        "                        fuel_economy = distance / fuel_used\n",
        "                        results.append({'vehicle_id': vehicle_id, 'fuel_economy': fuel_economy})\n",
        "\n",
        "                # Update previous values\n",
        "                prev_odometer = row['odometer']\n",
        "                prev_fuel_level = row['fuel_level']\n",
        "\n",
        "    return pd.DataFrame(results)\n",
        "\n",
        "# Calculate fuel economy\n",
        "fuel_economy_df = calculate_fuel_economy(telemetry_combined)\n"
      ],
      "metadata": {
        "id": "rjrGOT0N9LV_"
      },
      "execution_count": null,
      "outputs": []
    },
    {
      "cell_type": "code",
      "source": [
        "print(fuel_economy_df.head(100))"
      ],
      "metadata": {
        "colab": {
          "base_uri": "https://localhost:8080/"
        },
        "id": "cOnSxg2_-gI0",
        "outputId": "0e5638d2-aec3-4864-c291-c51f3a6dee38"
      },
      "execution_count": 91,
      "outputs": [
        {
          "output_type": "stream",
          "name": "stdout",
          "text": [
            "   vehicle_id  fuel_economy\n",
            "0   vehicle_1      3.541667\n",
            "1   vehicle_1      0.333333\n",
            "2   vehicle_1      4.666667\n",
            "3   vehicle_1      2.600000\n",
            "4   vehicle_1      3.333333\n",
            "..        ...           ...\n",
            "95  vehicle_1      4.333333\n",
            "96  vehicle_1      4.333333\n",
            "97  vehicle_1      3.619048\n",
            "98  vehicle_1      4.238095\n",
            "99  vehicle_1      3.666667\n",
            "\n",
            "[100 rows x 2 columns]\n"
          ]
        }
      ]
    },
    {
      "cell_type": "code",
      "source": [
        "average_fuel_economy = fuel_economy_df.groupby('vehicle_id')['fuel_economy'].mean().reset_index()\n",
        "\n",
        "# Display the results\n",
        "print(average_fuel_economy)"
      ],
      "metadata": {
        "colab": {
          "base_uri": "https://localhost:8080/"
        },
        "id": "bZd8K04J-luy",
        "outputId": "35fbbd10-659a-4fd1-cf7a-c8732543495d"
      },
      "execution_count": 90,
      "outputs": [
        {
          "output_type": "stream",
          "name": "stdout",
          "text": [
            "    vehicle_id  fuel_economy\n",
            "0    vehicle_1      0.804978\n",
            "1   vehicle_10     -1.999050\n",
            "2   vehicle_11      2.599252\n",
            "3    vehicle_2      2.010622\n",
            "4    vehicle_3     -2.021289\n",
            "5    vehicle_4      3.047143\n",
            "6    vehicle_5      6.885935\n",
            "7    vehicle_6      1.537318\n",
            "8    vehicle_7      1.035998\n",
            "9    vehicle_8      1.811511\n",
            "10   vehicle_9      1.266133\n"
          ]
        }
      ]
    },
    {
      "cell_type": "code",
      "source": [
        "# Ensure timestamps are in datetime format\n",
        "telemetry_combined['timestamp'] = pd.to_datetime(telemetry_combined['timestamp'])\n",
        "\n",
        "# Group by vehicle_id\n",
        "def calculate_fuel_economy(df):\n",
        "    results = []\n",
        "\n",
        "    # Group data by vehicle_id\n",
        "    grouped = df.groupby(level=0)\n",
        "\n",
        "    for vehicle_id, group in grouped:\n",
        "        # Sort by timestamp\n",
        "        group = group.sort_index(level=1)\n",
        "\n",
        "        # Initialize previous values\n",
        "        prev_odometer = None\n",
        "        prev_fuel_level = None\n",
        "\n",
        "        total_distance = 0\n",
        "        total_fuel_consumed = 0\n",
        "\n",
        "        for index, row in group.iterrows():\n",
        "            if pd.notnull(row['odometer']) and pd.notnull(row['fuel_level']):\n",
        "                if prev_odometer is not None and prev_fuel_level is not None:\n",
        "                    # Calculate distance and fuel used\n",
        "                    distance = abs(row['odometer'] - prev_odometer)\n",
        "                    fuel_used = abs(prev_fuel_level - row['fuel_level'])\n",
        "\n",
        "                    if fuel_used > 0:\n",
        "                        total_distance += distance\n",
        "                        total_fuel_consumed += fuel_used\n",
        "\n",
        "                # Update previous values\n",
        "                prev_odometer = row['odometer']\n",
        "                prev_fuel_level = row['fuel_level']\n",
        "\n",
        "        # Calculate fuel economy\n",
        "        if total_fuel_consumed > 0:\n",
        "            fuel_economy = total_distance / total_fuel_consumed\n",
        "        else:\n",
        "            fuel_economy = None\n",
        "\n",
        "        results.append({'vehicle_id': vehicle_id, 'fuel_economy': fuel_economy})\n",
        "\n",
        "    return pd.DataFrame(results)\n",
        "\n",
        "# Calculate fuel economy\n",
        "fuel_economy_df = calculate_fuel_economy(telemetry_combined)\n",
        "\n",
        "print(fuel_economy_df)"
      ],
      "metadata": {
        "colab": {
          "base_uri": "https://localhost:8080/"
        },
        "id": "pZpW4WNd_EFd",
        "outputId": "34a2eb4c-96da-46a5-da98-279945d206e4"
      },
      "execution_count": 92,
      "outputs": [
        {
          "output_type": "stream",
          "name": "stdout",
          "text": [
            "    vehicle_id  fuel_economy\n",
            "0    vehicle_1     24.904845\n",
            "1   vehicle_10     12.454454\n",
            "2   vehicle_11     30.408802\n",
            "3    vehicle_2      4.738117\n",
            "4    vehicle_3     70.022159\n",
            "5    vehicle_4      3.879308\n",
            "6    vehicle_5     44.724516\n",
            "7    vehicle_6     43.020135\n",
            "8    vehicle_7     38.793841\n",
            "9    vehicle_8     44.121769\n",
            "10   vehicle_9      4.050161\n"
          ]
        }
      ]
    },
    {
      "cell_type": "markdown",
      "source": [
        "##Comparing Results"
      ],
      "metadata": {
        "id": "6J-U1zzwpWyT"
      }
    },
    {
      "cell_type": "code",
      "source": [
        "print(fuel_economy_df)"
      ],
      "metadata": {
        "colab": {
          "base_uri": "https://localhost:8080/"
        },
        "id": "JeO9UI4npeL1",
        "outputId": "1bdd2405-748f-47ee-bad0-60384050cbb1"
      },
      "execution_count": 94,
      "outputs": [
        {
          "output_type": "stream",
          "name": "stdout",
          "text": [
            "    vehicle_id  fuel_economy\n",
            "0    vehicle_1     24.904845\n",
            "1   vehicle_10     12.454454\n",
            "2   vehicle_11     30.408802\n",
            "3    vehicle_2      4.738117\n",
            "4    vehicle_3     70.022159\n",
            "5    vehicle_4      3.879308\n",
            "6    vehicle_5     44.724516\n",
            "7    vehicle_6     43.020135\n",
            "8    vehicle_7     38.793841\n",
            "9    vehicle_8     44.121769\n",
            "10   vehicle_9      4.050161\n"
          ]
        }
      ]
    },
    {
      "cell_type": "code",
      "source": [
        "print('VEHICLE DATA')\n",
        "print(vehicle_data.head(20))"
      ],
      "metadata": {
        "colab": {
          "base_uri": "https://localhost:8080/"
        },
        "id": "nJ0KLBxMBU8-",
        "outputId": "a916a4a0-cfa5-4f79-9766-60a3a9838c17"
      },
      "execution_count": 93,
      "outputs": [
        {
          "output_type": "stream",
          "name": "stdout",
          "text": [
            "VEHICLE DATA\n",
            "            id datasource  tank_capacity  rated_mpg\n",
            "0    vehicle_1   source_1           18.0         35\n",
            "1    vehicle_2   source_1           15.8         32\n",
            "2    vehicle_3   source_2           15.8         24\n",
            "3    vehicle_4   source_1           13.0         32\n",
            "4    vehicle_5   source_2           23.0         22\n",
            "5    vehicle_6   source_2           19.0         56\n",
            "6    vehicle_7   source_2           23.0         21\n",
            "7    vehicle_8   source_2           18.5         21\n",
            "8    vehicle_9   source_1           17.9         24\n",
            "9   vehicle_10   source_2           26.0         21\n",
            "10  vehicle_11   source_1           18.0         35\n"
          ]
        }
      ]
    },
    {
      "cell_type": "code",
      "source": [
        "# Rename the column in vehicle_data to match the column name in fuel_economy_df\n",
        "vehicle_data.rename(columns={'id': 'vehicle_id'}, inplace=True)\n",
        "\n",
        "# Merging the DataFrames on 'vehicle_id'\n",
        "comparison_df = pd.merge(fuel_economy_df, vehicle_data[['vehicle_id', 'rated_mpg']], on='vehicle_id')\n",
        "\n",
        "# Rename columns for clarity\n",
        "comparison_df.rename(columns={'fuel_economy': 'Calculated Fuel Economy', 'rated_mpg': 'Provided MPG'}, inplace=True)\n",
        "\n",
        "# Plotting the comparison\n",
        "plt.figure(figsize=(12, 6))\n",
        "sns.set(style=\"whitegrid\")\n",
        "\n",
        "comparison_df.set_index('vehicle_id').plot(kind='bar', figsize=(14, 7))\n",
        "plt.title('Comparison of Calculated Fuel Economy vs Provided MPG')\n",
        "plt.ylabel('Fuel Economy (MPG)')\n",
        "plt.xlabel('Vehicle ID')\n",
        "plt.xticks(rotation=45, ha='right')\n",
        "plt.tight_layout()\n",
        "\n",
        "# Show the plot\n",
        "plt.show()\n"
      ],
      "metadata": {
        "colab": {
          "base_uri": "https://localhost:8080/",
          "height": 739
        },
        "id": "dcWelc1npDaU",
        "outputId": "e36738c5-c628-41ea-d557-669704069eff"
      },
      "execution_count": 98,
      "outputs": [
        {
          "output_type": "display_data",
          "data": {
            "text/plain": [
              "<Figure size 1200x600 with 0 Axes>"
            ]
          },
          "metadata": {}
        },
        {
          "output_type": "display_data",
          "data": {
            "text/plain": [
              "<Figure size 1400x700 with 1 Axes>"
            ],
            "image/png": "[encoded data removed]"
          },
          "metadata": {}
        }
      ]
    },
    {
      "cell_type": "code",
      "source": [],
      "metadata": {
        "id": "yXCsq0otprqH"
      },
      "execution_count": null,
      "outputs": []
    }
  ]
}